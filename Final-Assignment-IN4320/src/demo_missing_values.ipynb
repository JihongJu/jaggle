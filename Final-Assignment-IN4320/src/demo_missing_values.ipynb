{
 "cells": [
  {
   "cell_type": "code",
   "execution_count": 23,
   "metadata": {
    "collapsed": true
   },
   "outputs": [],
   "source": [
    "import pandas as pd\n",
    "import numpy as np\n",
    "import xgboost as xgb\n",
    "from xgboost.sklearn import XGBClassifier\n",
    "from sklearn import cross_validation, metrics\n",
    "from sklearn.grid_search import GridSearchCV\n",
    "from sklearn.cross_validation import train_test_split\n",
    "from copy import deepcopy\n",
    "import matplotlib.pylab as plt\n",
    "%matplotlib inline\n",
    "from matplotlib.pylab import rcParams\n",
    "rcParams['figure.figsize'] = 12, 4"
   ]
  },
  {
   "cell_type": "code",
   "execution_count": 87,
   "metadata": {
    "collapsed": false
   },
   "outputs": [
    {
     "data": {
      "text/plain": [
       "((10500, 15), (38342, 15))"
      ]
     },
     "execution_count": 87,
     "metadata": {},
     "output_type": "execute_result"
    }
   ],
   "source": [
    "dftrain = pd.read_csv('../data/train.csv')\n",
    "dftest = pd.read_csv('../data/test.csv')\n",
    "dftrain.shape, dftest.shape"
   ]
  },
  {
   "cell_type": "code",
   "execution_count": 37,
   "metadata": {
    "collapsed": false
   },
   "outputs": [],
   "source": [
    "target = 'earn_over_4k_euros_per_year'\n",
    "index  = 'Id'\n",
    "predictors = [x for x in train.columns if x not in [target,index]]"
   ]
  },
  {
   "cell_type": "markdown",
   "metadata": {},
   "source": [
    "### Delete"
   ]
  },
  {
   "cell_type": "code",
   "execution_count": 89,
   "metadata": {
    "collapsed": false
   },
   "outputs": [
    {
     "data": {
      "text/plain": [
       "((660, 15), (2375, 15))"
      ]
     },
     "execution_count": 89,
     "metadata": {},
     "output_type": "execute_result"
    }
   ],
   "source": [
    "dftrain_dropna = dftrain.dropna()\n",
    "dftest_dropna  = dftest.dropna()\n",
    "dftrain_dropna.shape, dftest_dropna.shape"
   ]
  },
  {
   "cell_type": "markdown",
   "metadata": {},
   "source": [
    "### Avg./Mode"
   ]
  },
  {
   "cell_type": "code",
   "execution_count": 90,
   "metadata": {
    "collapsed": false
   },
   "outputs": [
    {
     "data": {
      "text/plain": [
       "(Id                                  1.000000\n",
       " age                                12.305905\n",
       " education                          42.000000\n",
       " income_from_investment_sources    345.476020\n",
       " losses_from_investment_sources     27.848543\n",
       " marital_status                     61.000000\n",
       " native_country                     98.000000\n",
       " number_of_years_of_education        3.206746\n",
       " occupation                         82.000000\n",
       " race                              101.000000\n",
       " relationship                       49.000000\n",
       " sex                                59.000000\n",
       " work_class                         80.000000\n",
       " working_hours_per_week             12.853627\n",
       " earn_over_4k_euros_per_year        -1.000000\n",
       " Name: 0, dtype: float64,)"
      ]
     },
     "execution_count": 90,
     "metadata": {},
     "output_type": "execute_result"
    }
   ],
   "source": [
    "df = pd.concat([dftrain,dftest])\n",
    "dfmean = df.mean()\n",
    "dfmode = df.mode().iloc[0]\n",
    "continuous_predictors = ['age','income_from_investment_sources',\\\n",
    "                         'losses_from_investment_sources',\\\n",
    "                         'number_of_years_of_education',\\\n",
    "                         'working_hours_per_week']\n",
    "categorical_predictors = [ 'education','marital_status',\\\n",
    "                          'native_country','occupation',\\\n",
    "                          'race', 'relationship','sex', \\\n",
    "                          'work_class',]\n",
    "df_avg_mode = deepcopy(dfmode)\n",
    "for col in continuous_predictors:\n",
    "    df_avg_mode.loc[col] = dfmean.loc[col]\n",
    "\n",
    "df_avg_common, #dfmode, dfmean"
   ]
  },
  {
   "cell_type": "code",
   "execution_count": 70,
   "metadata": {
    "collapsed": false
   },
   "outputs": [],
   "source": [
    "dftrain_avg_common = dftrain.fillna(value=df_avg_common)\n",
    "dftest_avg_common  = dftest.fillna(value=df_avg_common)"
   ]
  },
  {
   "cell_type": "markdown",
   "metadata": {},
   "source": [
    "### Fill values Forward/Backward\n",
    "Note: be careful first row or last row"
   ]
  },
  {
   "cell_type": "code",
   "execution_count": 86,
   "metadata": {
    "collapsed": false
   },
   "outputs": [],
   "source": [
    "dftrain_ffill = dftrain.fillna(method='ffill')\n",
    "dftest_ffill = dftest.fillna(method='ffill')\n",
    "# fill the first row using the last row\n",
    "dftrain_ffill = dftrain_ffill.fillna(value=dftrain_ffill.iloc[-1])\n",
    "dftest_ffill = dftrain_ffill.fillna(value=dftest_ffill.iloc[-1])"
   ]
  },
  {
   "cell_type": "markdown",
   "metadata": {},
   "source": [
    "### KNN Imputation"
   ]
  },
  {
   "cell_type": "code",
   "execution_count": null,
   "metadata": {
    "collapsed": true
   },
   "outputs": [],
   "source": []
  },
  {
   "cell_type": "markdown",
   "metadata": {},
   "source": [
    "### Regression Imputation"
   ]
  },
  {
   "cell_type": "code",
   "execution_count": null,
   "metadata": {
    "collapsed": true
   },
   "outputs": [],
   "source": []
  }
 ],
 "metadata": {
  "kernelspec": {
   "display_name": "Python 2",
   "language": "python",
   "name": "python2"
  },
  "language_info": {
   "codemirror_mode": {
    "name": "ipython",
    "version": 2
   },
   "file_extension": ".py",
   "mimetype": "text/x-python",
   "name": "python",
   "nbconvert_exporter": "python",
   "pygments_lexer": "ipython2",
   "version": "2.7.11"
  }
 },
 "nbformat": 4,
 "nbformat_minor": 0
}
