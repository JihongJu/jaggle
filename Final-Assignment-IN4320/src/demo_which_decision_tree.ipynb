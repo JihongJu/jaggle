{
 "cells": [
  {
   "cell_type": "code",
   "execution_count": null,
   "metadata": {
    "collapsed": true
   },
   "outputs": [],
   "source": [
    "import pandas as pd\n",
    "import numpy as np\n",
    "import time\n",
    "from copy import deepcopy\n",
    "from pprint import pprint\n",
    "\n",
    "\n",
    "\n",
    "from sklearn import cross_validation, metrics\n",
    "from sklearn.grid_search import GridSearchCV\n",
    "from sklearn.cross_validation import train_test_split\n",
    "from evaluate_metrics import plot_learning_curve\n",
    "\n",
    "import matplotlib.pylab as plt\n",
    "%matplotlib inline\n",
    "from matplotlib.pylab import rcParams\n",
    "rcParams['figure.figsize'] = 12, 4\n",
    "\n",
    "# prepare data\n",
    "dftrain = pd.read_csv('../data/train.csv')\n",
    "dftest = pd.read_csv('../data/test.csv')\n",
    "\n",
    "# specify index, predictors and target\n",
    "index  = 'Id'\n",
    "target = 'earn_over_4k_euros_per_year'\n",
    "predictors = [x for x in dftrain.columns if x not in [target,index]]\n",
    "# base random forest classifier to compare missing value methods\n",
    "rfc = RandomForestClassifier()\n",
    "\n",
    "# convert categorical data\n",
    "continuous_predictors = ['age','income_from_investment_sources',\\\n",
    "                         'losses_from_investment_sources',\\\n",
    "                         'number_of_years_of_education',\\\n",
    "                         'working_hours_per_week']\n",
    "categorical_predictors = [col for col in predictors if col not in continuous_predictors]\n",
    "\n",
    "for col in categorical_predictors:\n",
    "    dftrain[col] = dftrain[col].astype('category')\n",
    "    dftest[col] = dftrain[col].astype('category')\n",
    "\n",
    "# fill in missing values\n",
    "dftrain_ffill = dftrain.fillna(method='ffill')\n",
    "dftest_ffill = dftest.fillna(method='ffill')\n",
    "# fill the first row using the last row\n",
    "dftrain_ffill = dftrain_ffill.fillna(value=dftrain_ffill.iloc[-1])\n",
    "dftest_ffill = dftrain_ffill.fillna(value=dftest_ffill.iloc[-1]"
   ]
  },
  {
   "cell_type": "code",
   "execution_count": null,
   "metadata": {
    "collapsed": true
   },
   "outputs": [],
   "source": [
    "# Helper functions\n",
    "def modelfit(estimator, model, dftrain, predictors, useTrainCV=True, cv_folds=10):\n",
    "    \"\"\"fit model with evaluation\"\"\"\n",
    "    # cv\n",
    "    tic = time.clock()\n",
    "    cv_scores = cross_validation.cross_val_score(\n",
    "        estimator=estimator, \\\n",
    "        X=dftrain[predictors].values, \\\n",
    "        y=dftrain[target].values, \\\n",
    "        scoring='accuracy',\n",
    "        cv=10)\n",
    "    toc = time.clock()\n",
    "    \n",
    "    print 'Model report ({})'.format(model)\n",
    "    print 'Accuracy (CV): {}'.format(np.mean(cv_scores))\n",
    "    print 'Time (Avg.): {}'.format((toc - tic) / cv_folds)\n",
    "    \n",
    "    # fit\n",
    "    predictor = estimator.fit(dftrain[predictors].values, dftrain[target].values)\n",
    "    \n",
    "    return predictor"
   ]
  },
  {
   "cell_type": "code",
   "execution_count": null,
   "metadata": {
    "collapsed": true
   },
   "outputs": [],
   "source": [
    "from sklearn.ensemble import RandomForestClassifier, \\\n",
    "GradientBoostingClassifier, AdaBoostClassifier"
   ]
  },
  {
   "cell_type": "code",
   "execution_count": null,
   "metadata": {
    "collapsed": true
   },
   "outputs": [],
   "source": [
    "import xgboost as xgb\n",
    "from xgboost.sklearn import XGBClassifier"
   ]
  }
 ],
 "metadata": {
  "kernelspec": {
   "display_name": "Python [Root]",
   "language": "python",
   "name": "Python [Root]"
  },
  "language_info": {
   "codemirror_mode": {
    "name": "ipython",
    "version": 2
   },
   "file_extension": ".py",
   "mimetype": "text/x-python",
   "name": "python",
   "nbconvert_exporter": "python",
   "pygments_lexer": "ipython2",
   "version": "2.7.12"
  }
 },
 "nbformat": 4,
 "nbformat_minor": 0
}
