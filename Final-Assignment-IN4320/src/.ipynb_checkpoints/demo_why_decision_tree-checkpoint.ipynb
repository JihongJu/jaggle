{
 "cells": [
  {
   "cell_type": "code",
   "execution_count": 1,
   "metadata": {
    "collapsed": false
   },
   "outputs": [],
   "source": [
    "import pandas as pd\n",
    "import numpy as np\n",
    "import time\n",
    "from copy import deepcopy\n",
    "from pprint import pprint\n",
    "\n",
    "import xgboost as xgb\n",
    "from xgboost.sklearn import XGBClassifier\n",
    "from sklearn.ensemble import RandomForestClassifier, \\\n",
    "GradientBoostingClassifier, AdaBoostClassifier\n",
    "\n",
    "from sklearn import cross_validation, metrics\n",
    "from sklearn.grid_search import GridSearchCV\n",
    "from sklearn.cross_validation import train_test_split\n",
    "from evaluate_metrics import plot_learning_curve\n",
    "\n",
    "import matplotlib.pylab as plt\n",
    "%matplotlib inline\n",
    "from matplotlib.pylab import rcParams\n",
    "rcParams['figure.figsize'] = 12, 4"
   ]
  },
  {
   "cell_type": "markdown",
   "metadata": {},
   "source": [
    "### Prepare data"
   ]
  },
  {
   "cell_type": "code",
   "execution_count": 2,
   "metadata": {
    "collapsed": false
   },
   "outputs": [
    {
     "data": {
      "text/plain": [
       "((10500, 15), (38342, 15))"
      ]
     },
     "execution_count": 2,
     "metadata": {},
     "output_type": "execute_result"
    }
   ],
   "source": [
    "dftrain = pd.read_csv('../data/train.csv')\n",
    "dftest = pd.read_csv('../data/test.csv')\n",
    "dftrain.shape, dftest.shape"
   ]
  },
  {
   "cell_type": "code",
   "execution_count": 3,
   "metadata": {
    "collapsed": false
   },
   "outputs": [],
   "source": [
    "# specify index, predictors and target\n",
    "index  = 'Id'\n",
    "target = 'earn_over_4k_euros_per_year'\n",
    "predictors = [x for x in dftrain.columns if x not in [target,index]]\n",
    "# base random forest classifier to compare missing value methods\n",
    "rfc = RandomForestClassifier()\n",
    "\n",
    "# convert to categorical data\n",
    "continuous_predictors = ['age','income_from_investment_sources',\\\n",
    "                         'losses_from_investment_sources',\\\n",
    "                         'number_of_years_of_education',\\\n",
    "                         'working_hours_per_week']\n",
    "categorical_predictors = [col for col in predictors if col not in continuous_predictors]\n",
    "\n",
    "for col in categorical_predictors:\n",
    "#     dftrain[col] = dftrain[col].astype('int64')\n",
    "    dftrain[col] = dftrain[col].astype('category')\n",
    "    \n",
    "#     dftest[col] = dftrain[col].astype('int64')\n",
    "    dftest[col] = dftrain[col].astype('category')"
   ]
  },
  {
   "cell_type": "markdown",
   "metadata": {},
   "source": [
    "### Fill in missing value"
   ]
  },
  {
   "cell_type": "code",
   "execution_count": 4,
   "metadata": {
    "collapsed": true
   },
   "outputs": [],
   "source": [
    "dftrain_ffill = dftrain.fillna(method='ffill')\n",
    "dftest_ffill = dftest.fillna(method='ffill')\n",
    "# fill the first row using the last row\n",
    "dftrain_ffill = dftrain_ffill.fillna(value=dftrain_ffill.iloc[-1])\n",
    "dftest_ffill = dftrain_ffill.fillna(value=dftest_ffill.iloc[-1])"
   ]
  },
  {
   "cell_type": "markdown",
   "metadata": {},
   "source": [
    "### Helper functions"
   ]
  },
  {
   "cell_type": "code",
   "execution_count": 5,
   "metadata": {
    "collapsed": true
   },
   "outputs": [],
   "source": [
    "def modelfit(estimator, model, dftrain, predictors, useTrainCV=True, cv_folds=10):\n",
    "    \"\"\"fit model with evaluation\"\"\"\n",
    "    # cv\n",
    "    tic = time.clock()\n",
    "    cv_scores = cross_validation.cross_val_score(\n",
    "        estimator=estimator, \\\n",
    "        X=dftrain[predictors].values, \\\n",
    "        y=dftrain[target].values, \\\n",
    "        scoring='accuracy',\n",
    "        cv=10)\n",
    "    toc = time.clock()\n",
    "    \n",
    "    print 'Model report ({})'.format(model)\n",
    "    print 'Accuracy (CV): {}'.format(np.mean(cv_scores))\n",
    "    print 'Time (Avg.): {}'.format((toc - tic) / cv_folds)\n",
    "    \n",
    "    # fit\n",
    "    predictor = estimator.fit(dftrain[predictors].values, dftrain[target].values)\n",
    "    \n",
    "    return predictor\n",
    "    "
   ]
  },
  {
   "cell_type": "markdown",
   "metadata": {},
   "source": [
    "### LDA"
   ]
  },
  {
   "cell_type": "code",
   "execution_count": 7,
   "metadata": {
    "collapsed": false
   },
   "outputs": [
    {
     "name": "stdout",
     "output_type": "stream",
     "text": [
      "Model report (LDA)\n",
      "Accuracy (CV): 0.821523809524\n",
      "Time (Avg.): 0.0544422\n"
     ]
    }
   ],
   "source": [
    "from sklearn.discriminant_analysis import LinearDiscriminantAnalysis\n",
    "\n",
    "model = 'Linear Discriminant Analysis'\n",
    "\n",
    "ldc = LinearDiscriminantAnalysis()\n",
    "\n",
    "ldc_predictor = modelfit(ldc, model, dftrain_ffill, predictors)"
   ]
  },
  {
   "cell_type": "markdown",
   "metadata": {},
   "source": [
    "### NMC"
   ]
  },
  {
   "cell_type": "code",
   "execution_count": 9,
   "metadata": {
    "collapsed": false
   },
   "outputs": [
    {
     "name": "stdout",
     "output_type": "stream",
     "text": [
      "Model report (Nearest Neirghbor)\n",
      "Accuracy (CV): 0.81980952381\n",
      "Time (Avg.): 0.1672859\n"
     ]
    }
   ],
   "source": [
    "from sklearn.neighbors import KNeighborsClassifier\n",
    "\n",
    "model = 'Nearest Neirghbor'\n",
    "\n",
    "nmc = KNeighborsClassifier(n_neighbors=1)\n",
    "\n",
    "nmc_predictor = modelfit(nmc, model, dftrain_ffill, predictors)"
   ]
  },
  {
   "cell_type": "markdown",
   "metadata": {},
   "source": [
    "### Naive Bayes"
   ]
  },
  {
   "cell_type": "code",
   "execution_count": 10,
   "metadata": {
    "collapsed": false
   },
   "outputs": [
    {
     "name": "stdout",
     "output_type": "stream",
     "text": [
      "Model report (Gaussian Naive Bayes)\n",
      "Accuracy (CV): 0.80780952381\n",
      "Time (Avg.): 0.0121213\n"
     ]
    }
   ],
   "source": [
    "from sklearn.naive_bayes import GaussianNB\n",
    "\n",
    "model = 'Gaussian Naive Bayes'\n",
    "\n",
    "nbc = GaussianNB()\n",
    "\n",
    "nbc_predictor = modelfit(nbc, model, dftrain_ffill, predictors)"
   ]
  },
  {
   "cell_type": "markdown",
   "metadata": {},
   "source": [
    "### SVM"
   ]
  },
  {
   "cell_type": "code",
   "execution_count": null,
   "metadata": {
    "collapsed": false
   },
   "outputs": [],
   "source": [
    "from sklearn.svm import SVC\n",
    "\n",
    "model = 'SVM'\n",
    "\n",
    "svc = SVC(kernel='linear')\n",
    "\n",
    "svc_predictor = modelfit(svc, model, dftrain_ffill, predictors)"
   ]
  }
 ],
 "metadata": {
  "kernelspec": {
   "display_name": "Python [Root]",
   "language": "python",
   "name": "Python [Root]"
  },
  "language_info": {
   "codemirror_mode": {
    "name": "ipython",
    "version": 2
   },
   "file_extension": ".py",
   "mimetype": "text/x-python",
   "name": "python",
   "nbconvert_exporter": "python",
   "pygments_lexer": "ipython2",
   "version": "2.7.12"
  }
 },
 "nbformat": 4,
 "nbformat_minor": 0
}
